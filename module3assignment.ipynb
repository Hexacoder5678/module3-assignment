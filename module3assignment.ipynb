{
  "nbformat": 4,
  "nbformat_minor": 0,
  "metadata": {
    "colab": {
      "provenance": []
    },
    "kernelspec": {
      "name": "python3",
      "display_name": "Python 3"
    },
    "language_info": {
      "name": "python"
    }
  },
  "cells": [
    {
      "cell_type": "markdown",
      "source": [
        "QUES1->Build a simple webpage that displays text as shown in the below image?"
      ],
      "metadata": {
        "id": "C7hKxuk3HNwi"
      }
    },
    {
      "cell_type": "code",
      "source": [
        "<!DOCTYPE html>\n",
        "<html lang=\"en\">\n",
        "<head>\n",
        "    <meta charset=\"UTF-8\">\n",
        "    <meta name=\"viewport\" content=\"width=device-width, initial-scale=1.0\">\n",
        "    <title>Document</title>\n",
        "</head>\n",
        "<body>\n",
        "    <b>this text will be bolded</b><br>\n",
        "    <i>this text will be italic</i><br>\n",
        "    <u>this text will be underlined</u><br>\n",
        "    <mark>this text will be highlighted</mark><br>\n",
        "    <p>this is normal text<sup>this will be superscript</sup>this is normal again</p><br>\n",
        "    <p>this is nomraltext<sub>this is subscripted</sub></p><br>\n",
        "    <p>NORMAL TEXT <small>small text</small><br>\n",
        "    <p><del>this text will be deleted</del>\n",
        "</body>\n",
        "</html>"
      ],
      "metadata": {
        "id": "dcFpW1-Utipk"
      },
      "execution_count": null,
      "outputs": []
    },
    {
      "cell_type": "markdown",
      "source": [
        "QUES2->Build a simple webpage that helps users navigate different web development-related websites. Note: On\n",
        "clicking the hyperlink the web pages should open in a new tab. Below is a reference image?"
      ],
      "metadata": {
        "id": "CypF0WEbtkLN"
      }
    },
    {
      "cell_type": "code",
      "source": [
        "<!DOCTYPE html>\n",
        "<html lang=\"en\">\n",
        "<head>\n",
        "    <meta charset=\"UTF-8\">\n",
        "    <meta name=\"viewport\" content=\"width=device-width, initial-scale=1.0\">\n",
        "    <title>Document</title>\n",
        "</head>\n",
        "<body>\n",
        "   <h1><b>NAVIGATE ME:</b></h1><br><br>\n",
        "    take me to <a href=\"pwsliils.com\" target=\"_blank>\">PW SKILLS</a> to buy a course<br>\n",
        "    take me to <a href=\"mdndocs.com\" target=\"_blank\">MDN DOCS</a> to know more about the web devlopmnet<br>\n",
        "    take me to<a href=\"pwskillslab.com\" target=\"_blank\">PW SKILLS LAB</a> to practice live coding\n",
        "</body>\n",
        "</html>"
      ],
      "metadata": {
        "id": "AtLydJkQuCAe"
      },
      "execution_count": null,
      "outputs": []
    },
    {
      "cell_type": "markdown",
      "source": [
        "QUES3->Build a simple blog web page with 3 pages home, web development, and web design. Each page must\n",
        "contain hyperlinks to other pages in the top, a heading of the page topic and a paragraph of information.\n",
        "For the home page you can add some information about yourself?"
      ],
      "metadata": {
        "id": "GVnseKvMvn3q"
      }
    },
    {
      "cell_type": "code",
      "source": [
        "<!DOCTYPE html>\n",
        "<html lang=\"en\">\n",
        "<head>\n",
        "    <meta charset=\"UTF-8\">\n",
        "    <meta name=\"viewport\" content=\"width=device-width, initial-scale=1.0\">\n",
        "    <title>BLOG</title>\n",
        "</head>\n",
        "<body>\n",
        "<nav>\n",
        "    <a href=\"index.html\">Home</a> |\n",
        "    <a href=\"web-development.html\">Web Development</a> |\n",
        "    <a href=\"web-design.html\">Web Design</a>\n",
        "    </nav>\n",
        "   <h1><b><mark><super> BLOG WEB PAGE </super></mark></b><br><br>\n",
        "   Hello everyone myself <mark>Archit Kumar</mark> and currently doing btech in computer science and engineering from <mark>PSIT,Kanpur</mark><br>. I am studying\n",
        "    fuull stack web development from pw skills.<br>\n",
        "    </body>\n",
        "</html>\n",
        "\n",
        "\n"
      ],
      "metadata": {
        "id": "0dzvFbMnwifx"
      },
      "execution_count": null,
      "outputs": []
    },
    {
      "cell_type": "markdown",
      "source": [
        "QUES4->Create an ordered list of HTML tags. Each list item must include the tag name and some information about\n",
        "the tag?"
      ],
      "metadata": {
        "id": "jlAFboLd06GR"
      }
    },
    {
      "cell_type": "code",
      "source": [
        "<!DOCTYPE html>\n",
        "<html lang=\"en\">\n",
        "<head>\n",
        "    <meta charset=\"UTF-8\">\n",
        "    <meta name=\"viewport\" content=\"width=device-width, initial-scale=1.0\">\n",
        "    <title>BLOG</title>\n",
        "</head>\n",
        "<body>\n",
        "   <ol type=\"1\">\n",
        "   <li>heading tags are used to insert the headings .there are 6 types of heading tags.</li>\n",
        "   <li>image tag are used to add the image</li>\n",
        "   <li>anchor tag are used to add the hyperlink</li>\n",
        "   <li>paragraph tag are used to write a paragraph</li>\n",
        "   <li>hr tag is used to make a horizontal line</li>\n",
        "\n",
        "</body>\n",
        "</html>"
      ],
      "metadata": {
        "id": "dEpNJMf51AP_"
      },
      "execution_count": null,
      "outputs": []
    },
    {
      "cell_type": "markdown",
      "source": [
        "QUES.5->Create a description list of full stack web development tech stack, using the <dl> tag. Each term should be\n",
        "a tech stack name and each description should be a brief explanation of what the tech stack is used for?"
      ],
      "metadata": {
        "id": "2hYIFky27zEE"
      }
    },
    {
      "cell_type": "code",
      "source": [
        "<!DOCTYPE html>\n",
        "<html lang=\"en\">\n",
        "<head>\n",
        "    <meta charset=\"UTF-8\">\n",
        "    <meta name=\"viewport\" content=\"width=device-width, initial-scale=1.0\">\n",
        "    <title>Document</title>\n",
        "</head>\n",
        "<body>\n",
        "    <h1>DESCRIPTION LIST</h1>\n",
        "    <dl>\n",
        "        <dt>html</dt>\n",
        "        <dd>the markup language used to cerate the structure of the web page</dd>\n",
        "\n",
        "        <dt>CSS</dt>\n",
        "        <dd>used to add the beautifiactio to our websites</dd>\n",
        "\n",
        "        <dt>Javscript</dt>\n",
        "        <dd>this programming language is used for adds the interface and the dyamic behaviour to our web sites</dd>\n",
        "\n",
        "        <dt>GIT</dt>\n",
        "        <dd>a version control system that tracks the chages in our code and helps in collaboration</dd>\n",
        "    </dl>\n",
        "</body>\n",
        "</html>"
      ],
      "metadata": {
        "id": "kHfFLZin-bKe"
      },
      "execution_count": null,
      "outputs": []
    },
    {
      "cell_type": "markdown",
      "source": [
        "QUES 6->Create an ordered list of the full stack web development tech stack HTML, CSS, and JS. For each tech\n",
        "stack, create a table that lists the tech stack name, its primary use cases, and some key features or\n",
        "benefits. Below is a reference image?"
      ],
      "metadata": {
        "id": "n9FkcGCV-cKP"
      }
    },
    {
      "cell_type": "code",
      "source": [
        "<!DOCTYPE html>\n",
        "<html lang=\"en\">\n",
        "<head>\n",
        "    <meta charset=\"UTF-8\">\n",
        "    <meta name=\"viewport\" content=\"width=device-width, initial-scale=1.0\">\n",
        "    <title>Document</title>\n",
        "</head>\n",
        "<body>\n",
        "    <h1><mark><u>FULL SATCK WEB DEVELOPMENT</u></mark></h1>\n",
        "\n",
        "        <ol type=\"1\">\n",
        "            <li>\n",
        "                <h3>html</h3>\n",
        "                <table border=\"2\">\n",
        "                    <tr>\n",
        "                        <th>Primary use cases</th>\n",
        "                        <th>Key features/bebfits</th>\n",
        "                    </tr>\n",
        "                    <tr>\n",
        "                        <td> building the structure of the web pages</td>\n",
        "                        <td>\n",
        "                            <ul type=\"disk\">\n",
        "                                <li>simple and easy to learn</li>\n",
        "                                <li>compatible with all web browsers</li>\n",
        "                                <li>allows for semantic markup </li>\n",
        "                            </ul>\n",
        "                        </td>\n",
        "                    </tr>\n",
        "                </table>\n",
        "            </li>\n",
        "            <li>\n",
        "                <h3>css</h3>\n",
        "                <table border=\"2\">\n",
        "                   <tr>\n",
        "                    <th>Primary use cases</th>\n",
        "                    <th>KEY features and benefits</th>\n",
        "                   </tr>\n",
        "                   <tr>\n",
        "                    <td>styling and lalyout of web pages</td>\n",
        "                    <td>\n",
        "                        <ul type=\"disk\">\n",
        "                          <li>allows for separtion of content and presntation</li>\n",
        "                          <li>enables a wide range of stylinf options</li>\n",
        "                          <li>enables responsive design</li>\n",
        "                        </ul>\n",
        "                    </td>\n",
        "                   </tr>\n",
        "                </table>\n",
        "            </li>\n",
        "        </ol>\n",
        "\n",
        "</body>\n",
        "</html>"
      ],
      "metadata": {
        "id": "KkFn7uefCwc_"
      },
      "execution_count": null,
      "outputs": []
    },
    {
      "cell_type": "markdown",
      "source": [
        "QUES.7-> Build a complex nested list structure representing a multi-level table\n",
        " of contents. Use unordered lists\n",
        "(<ul>) and list items (<li>) with inline-block styling to create a structured layout. Apply formatting tags to\n",
        "enhance the presentation of list items?"
      ],
      "metadata": {
        "id": "P9BRKzlSCyXb"
      }
    },
    {
      "cell_type": "code",
      "source": [
        "<!DOCTYPE html>\n",
        "<html lang=\"en\">\n",
        "<head>\n",
        "    <meta charset=\"UTF-8\">\n",
        "    <meta name=\"viewport\" content=\"width=device-width, initial-scale=1.0\">\n",
        "    <title>Document</title>\n",
        "</head>\n",
        "<body>\n",
        "    <h1><b><u>TABLE OF CONTENTS</u></b></h1>\n",
        "    <ul>\n",
        "        <li>part1:introduction</li>\n",
        "        <li>part2:getting  started\n",
        "            <ul type=\"circle\">\n",
        "                <li>2.1:istalling the software</li>\n",
        "                <li>2.2:customizing the new project\n",
        "                    <ul type=\"sqaure\">\n",
        "                        <li>2.2.1:project</li>\n",
        "                        <li>2.2.2:customizing</li>\n",
        "                    </ul>\n",
        "                </li>\n",
        "                <li>2.3:exploring the interface\n",
        "                    <ul type=\"square\">\n",
        "                        <li>2.3.1:toolbar features</li>\n",
        "                        <li>2.3.2:panel layout\n",
        "                            <ul type=\"square\">\n",
        "                                <li>2.3.2.1:docking  panels</li>\n",
        "                                <li>2.3.2.2:tabbed interface</li>\n",
        "                            </ul>\n",
        "                        </li>\n",
        "                    </ul>\n",
        "                </li>\n",
        "                </ul>\n",
        "                </li>\n",
        "                <li>part3:advanced topics\n",
        "                    <ul type=\"circle\">\n",
        "                        <li>3.1:working with plugoins\n",
        "                            <ul type=\"square\">\n",
        "                                <li>3.1.1:installiing plugins</li>\n",
        "                                <li>3.1.2:plugin confoguration</li>\n",
        "                            </ul>\n",
        "                        </li>\n",
        "                        <li>3.2:customizing the ui\n",
        "                            <ul type=\"square\">\n",
        "                                <li>3.2.1:changing themes</li>\n",
        "                                <li>3.2.2:configuirg shortcuts</li>\n",
        "                            </ul>\n",
        "                        </li>\n",
        "                        <li>3.3:optimization\n",
        "                            <ul type=\"square\">\n",
        "                                <li>3.3.1:caching strategies</li>\n",
        "                                <li>3.3.2:resource minification</li>\n",
        "                            </ul>\n",
        "                        </li>\n",
        "                    </ul>\n",
        "                </li>\n",
        "        <li>part4:conclusion</li>\n",
        "    </ul>\n",
        "</body>\n",
        "</html>"
      ],
      "metadata": {
        "id": "W6KPsa43J693"
      },
      "execution_count": null,
      "outputs": []
    },
    {
      "cell_type": "markdown",
      "source": [
        "QUES.8->Create a table to display a conference schedule. Each row corresponds to a time slot, and each column\n",
        "corresponds to a room. Some time slots might have multiple sessions running simultaneously in different\n",
        "rooms. Utilize rowspan and colspan attributes as necessary to accommodate this complex schedule.\n",
        "(use table attribute “cellpadding”  to give extra padding in each table cell )?\n"
      ],
      "metadata": {
        "id": "Idwp-GSaJ9tE"
      }
    },
    {
      "cell_type": "code",
      "source": [
        "<!DOCTYPE html>\n",
        "<html lang=\"en\">\n",
        "<head>\n",
        "    <meta charset=\"UTF-8\">\n",
        "    <meta name=\"viewport\" content=\"width=device-width, initial-scale=1.0\">\n",
        "    <title>Document</title>\n",
        "</head>\n",
        "<body>\n",
        "        <h1><b><u>CONFERENCE SCHEDULE</u></b></h1>\n",
        "        <table border=\"2\">\n",
        "            <tr>\n",
        "                <th>time</th>\n",
        "                <th>room 1</th>\n",
        "                <th>room 2</th>\n",
        "                <th>room 3</th>\n",
        "                <th>room 4</th>\n",
        "            </tr>\n",
        "            <tr>\n",
        "                <td rowspan=\"3\">9:00am - 10:00am</td>\n",
        "                <td rowspan=\"2\"> keynote</td>\n",
        "                <td>session a</td>\n",
        "                <td>session b</td>\n",
        "                <td rowspan=\"3\">session c</td>\n",
        "            </tr>\n",
        "            <tr>\n",
        "                <td>session d</td>\n",
        "                <td>session e</td>\n",
        "            </tr>\n",
        "            <tr>\n",
        "                <td>10:30am-11:30am</td>\n",
        "                <td colspan=\"2\">session f</td>\n",
        "            </tr>\n",
        "            <tr>\n",
        "                <td>12:00pm-1:00pm</td>\n",
        "                <td colspan=\"4\">LUNCH BREAK</td>\n",
        "            </tr>\n",
        "            <tr>\n",
        "                <td rowspan=\"2\">1:00pm-2:00pm</td>\n",
        "                <td>session g</td>\n",
        "                <td rowspan=\"2\">session h</td>\n",
        "                <td>session i</td>\n",
        "                <td>session j</td>\n",
        "            </tr>\n",
        "            <tr>\n",
        "                <td>session k</td>\n",
        "                <td>sessio l</td>\n",
        "                <td>session m</td>\n",
        "            </tr>\n",
        "        </table>\n",
        "</body>\n",
        "</html>"
      ],
      "metadata": {
        "id": "DVql8F2LQGL7"
      },
      "execution_count": null,
      "outputs": []
    }
  ]
}